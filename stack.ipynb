{
 "cells": [
  {
   "cell_type": "code",
   "execution_count": 17,
   "metadata": {},
   "outputs": [
    {
     "name": "stdout",
     "output_type": "stream",
     "text": [
      "2\n",
      "1\n"
     ]
    }
   ],
   "source": [
    "class Stack:\n",
    "    def __init__(self):\n",
    "        self.list = []\n",
    "    \n",
    "    def __str__(self):\n",
    "        values = self.list.reverse()\n",
    "        values = [str(x) for x in self.list]\n",
    "        return '\\n'.join(values)\n",
    "    \n",
    "    # is empty\n",
    "    def isEmpty(self):\n",
    "        if self.list == []:\n",
    "            return True\n",
    "        else:\n",
    "            return False\n",
    "    # push\n",
    "    def push(self, value):\n",
    "        self.list.append(value)\n",
    "        return \"the element has been successfully inserted\"\n",
    "    \n",
    "    # pop\n",
    "    \n",
    "    def pop(self):\n",
    "        if self.isEmpty():\n",
    "            return \"there is not any element is the stack\"\n",
    "        else: \n",
    "            return self.list.pop()\n",
    "        \n",
    "    # peek\n",
    "    def peek(self):\n",
    "        if self.isEmpty():\n",
    "            return \"there is not any element is the stack\"\n",
    "        else: \n",
    "            return self.list[len(self.list)-1]\n",
    "        \n",
    "customStack = Stack()\n",
    "customStack.push(1)\n",
    "customStack.push(2)\n",
    "customStack.push(3)\n",
    "customStack.pop()\n",
    "print(customStack)"
   ]
  },
  {
   "cell_type": "code",
   "execution_count": null,
   "metadata": {},
   "outputs": [],
   "source": []
  }
 ],
 "metadata": {
  "kernelspec": {
   "display_name": "Python 3",
   "language": "python",
   "name": "python3"
  },
  "language_info": {
   "codemirror_mode": {
    "name": "ipython",
    "version": 3
   },
   "file_extension": ".py",
   "mimetype": "text/x-python",
   "name": "python",
   "nbconvert_exporter": "python",
   "pygments_lexer": "ipython3",
   "version": "3.12.3"
  }
 },
 "nbformat": 4,
 "nbformat_minor": 2
}
