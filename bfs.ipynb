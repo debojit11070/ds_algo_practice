{
 "cells": [
  {
   "cell_type": "code",
   "execution_count": 1,
   "metadata": {},
   "outputs": [],
   "source": [
    "class Graph:\n",
    "    def __init__(self, gdict = None):\n",
    "        if gdict is None:\n",
    "            gdict = {}\n",
    "        self.gdict = gdict\n",
    "    def addEdge(self, vertex, edge):\n",
    "        self.gdict[vertex].append(edge)\n",
    "        \n",
    "    def bfs(self, vertex):\n",
    "        visited = [vertex]\n",
    "        queue = [vertex]\n",
    "        while queue:\n",
    "            deVertex = queue.pop(0)\n",
    "            print(deVertex)\n",
    "            for adjacentVertex in self.gdict[deVertex]:\n",
    "                if adjacentVertex not in visited:\n",
    "                    visited.append(adjacentVertex)"
   ]
  },
  {
   "cell_type": "code",
   "execution_count": null,
   "metadata": {},
   "outputs": [],
   "source": []
  }
 ],
 "metadata": {
  "kernelspec": {
   "display_name": "Python 3",
   "language": "python",
   "name": "python3"
  },
  "language_info": {
   "codemirror_mode": {
    "name": "ipython",
    "version": 3
   },
   "file_extension": ".py",
   "mimetype": "text/x-python",
   "name": "python",
   "nbconvert_exporter": "python",
   "pygments_lexer": "ipython3",
   "version": "3.12.3"
  }
 },
 "nbformat": 4,
 "nbformat_minor": 2
}
