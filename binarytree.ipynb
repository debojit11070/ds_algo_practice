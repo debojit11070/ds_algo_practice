{
 "cells": [
  {
   "cell_type": "code",
   "execution_count": null,
   "metadata": {},
   "outputs": [],
   "source": []
  },
  {
   "cell_type": "markdown",
   "metadata": {},
   "source": [
    "## create binary tree using linked list"
   ]
  },
  {
   "cell_type": "code",
   "execution_count": 7,
   "metadata": {},
   "outputs": [
    {
     "name": "stdout",
     "output_type": "stream",
     "text": [
      "drinks\n",
      "hot\n",
      "cold\n"
     ]
    }
   ],
   "source": [
    "class TreeNode:\n",
    "    def __init__(self,data):\n",
    "        self.data = data\n",
    "        self.leftchild = None\n",
    "        self.rightchild = None\n",
    "        \n",
    "        \n",
    "newBinTree = TreeNode(\"drinks\")\n",
    "leftchild = TreeNode(\"hot\")\n",
    "rightchild = TreeNode(\"cold\")\n",
    "newBinTree.leftchild = leftchild\n",
    "newBinTree.rightchild = rightchild\n",
    "\n",
    "def preOrderTraversal(rootNode):\n",
    "    if not rootNode:\n",
    "        return\n",
    "    print(rootNode.data)\n",
    "    preOrderTraversal(rootNode.leftchild)\n",
    "    preOrderTraversal(rootNode.rightchild)\n",
    "    \n",
    "    \n",
    "preOrderTraversal(newBinTree)"
   ]
  },
  {
   "cell_type": "code",
   "execution_count": null,
   "metadata": {},
   "outputs": [],
   "source": []
  }
 ],
 "metadata": {
  "kernelspec": {
   "display_name": "Python 3",
   "language": "python",
   "name": "python3"
  },
  "language_info": {
   "codemirror_mode": {
    "name": "ipython",
    "version": 3
   },
   "file_extension": ".py",
   "mimetype": "text/x-python",
   "name": "python",
   "nbconvert_exporter": "python",
   "pygments_lexer": "ipython3",
   "version": "3.12.3"
  }
 },
 "nbformat": 4,
 "nbformat_minor": 2
}
