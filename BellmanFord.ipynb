{
 "cells": [
  {
   "cell_type": "code",
   "execution_count": 1,
   "metadata": {},
   "outputs": [],
   "source": [
    "class Graph:\n",
    "    def __init__(self, vertices):\n",
    "        self.V = vertices\n",
    "        self.graph = []\n",
    "        self.nodes = []\n",
    "        \n",
    "    def add_edge(self,s,d,w):\n",
    "        self.graph.append([s,d,w])\n",
    "        \n",
    "    def addNode(self,value):\n",
    "        self.nodes.append(value)\n",
    "        \n",
    "    def print_solution(self,dist):\n",
    "        print(\"vertex distance from source\")\n",
    "        for key, value in dist.items():\n",
    "            print(' ' +key, ':   ', value)\n",
    "            \n",
    "    def bellmanFord(self, src):\n",
    "        dist = {i: float(\"Inf\") for i in self.nodes}\n",
    "        dist[src] = 0\n",
    "        \n",
    "        for _ in range(self.v-1):\n",
    "            for s, d, w in self.graph:\n",
    "                if dist[s] != float(\"Inf\") and dist[s] + w < dist[d]:\n",
    "                    dist[d] = dist[s] + w\n",
    "                    \n",
    "            for s, d, w in self.graph:\n",
    "                i\n",
    "        "
   ]
  },
  {
   "cell_type": "code",
   "execution_count": null,
   "metadata": {},
   "outputs": [],
   "source": []
  }
 ],
 "metadata": {
  "kernelspec": {
   "display_name": "Python 3",
   "language": "python",
   "name": "python3"
  },
  "language_info": {
   "codemirror_mode": {
    "name": "ipython",
    "version": 3
   },
   "file_extension": ".py",
   "mimetype": "text/x-python",
   "name": "python",
   "nbconvert_exporter": "python",
   "pygments_lexer": "ipython3",
   "version": "3.12.3"
  }
 },
 "nbformat": 4,
 "nbformat_minor": 2
}
